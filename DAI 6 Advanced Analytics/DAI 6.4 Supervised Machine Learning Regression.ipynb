{
 "cells": [
  {
   "cell_type": "markdown",
   "id": "5d0a2755-c4c2-43cc-b250-895342e9d77a",
   "metadata": {},
   "source": [
    "### Step 2 Import the libraries you need into a new notebook, including any necessary modules from scikit-learn"
   ]
  },
  {
   "cell_type": "code",
   "execution_count": 2,
   "id": "8a03a383-a4e2-42f5-bd8e-52e328ccc5c6",
   "metadata": {},
   "outputs": [],
   "source": [
    "import pandas as pd\n",
    "import numpy as np\n",
    "import seaborn as sns\n",
    "import matplotlib\n",
    "import matplotlib.pyplot as plt\n",
    "import os\n",
    "import sklearn\n",
    "from sklearn.model_selection import train_test_split \n",
    "from sklearn.linear_model import LinearRegression\n",
    "from sklearn.metrics import mean_squared_error, r2_score"
   ]
  },
  {
   "cell_type": "code",
   "execution_count": 61,
   "id": "449af925-8d88-4da2-a4cb-aad81e85f9c4",
   "metadata": {},
   "outputs": [],
   "source": [
    "df = pd.read_csv(r'C:\\Users\\PC\\Documents\\zomato.csv', index_col = False)"
   ]
  },
  {
   "cell_type": "markdown",
   "id": "893dbac6-36f5-499a-ac86-3d327b9a2929",
   "metadata": {},
   "source": [
    "### Step 3 Clean your data so that it’s ready for analysis."
   ]
  },
  {
   "cell_type": "markdown",
   "id": "717e0256-3bdc-4592-ac6b-5fe11e817891",
   "metadata": {},
   "source": [
    "Spotting Missing values"
   ]
  },
  {
   "cell_type": "code",
   "execution_count": 63,
   "id": "93b6f4b2-a91f-4fd3-b1a0-fe6ca275b7b9",
   "metadata": {},
   "outputs": [],
   "source": [
    "null_values=df.isnull().sum()"
   ]
  },
  {
   "cell_type": "code",
   "execution_count": 65,
   "id": "f9515dc0-956f-45fc-8047-cd5579e64a6f",
   "metadata": {},
   "outputs": [
    {
     "name": "stdout",
     "output_type": "stream",
     "text": [
      "rate                            7775\n",
      "phone                           1208\n",
      "location                          21\n",
      "rest_type                        227\n",
      "dish_liked                     28078\n",
      "cuisines                          45\n",
      "approx_cost(for two people)      346\n",
      "dtype: int64\n"
     ]
    }
   ],
   "source": [
    "print(null_values[null_values > 0])"
   ]
  },
  {
   "cell_type": "code",
   "execution_count": 67,
   "id": "46596d8c-854a-4e44-ac8c-490ccd69a896",
   "metadata": {},
   "outputs": [],
   "source": [
    "df.dropna(inplace = True)"
   ]
  },
  {
   "cell_type": "code",
   "execution_count": 69,
   "id": "226ed9cf-0032-41f8-9aaf-93c0fbd6f93f",
   "metadata": {},
   "outputs": [
    {
     "data": {
      "text/plain": [
       "(23193, 17)"
      ]
     },
     "execution_count": 69,
     "metadata": {},
     "output_type": "execute_result"
    }
   ],
   "source": [
    "df.shape"
   ]
  },
  {
   "cell_type": "markdown",
   "id": "bc314bba-742a-4093-bd43-abb011deb46a",
   "metadata": {},
   "source": [
    "Looking for duplicates"
   ]
  },
  {
   "cell_type": "code",
   "execution_count": 71,
   "id": "887ac701-c000-4203-aea2-692918cc3858",
   "metadata": {},
   "outputs": [],
   "source": [
    "df_dups = df[df.duplicated()]"
   ]
  },
  {
   "cell_type": "code",
   "execution_count": 73,
   "id": "d72ca1fd-ddce-4f26-ba17-8b535f1c37ae",
   "metadata": {},
   "outputs": [
    {
     "data": {
      "text/html": [
       "<div>\n",
       "<style scoped>\n",
       "    .dataframe tbody tr th:only-of-type {\n",
       "        vertical-align: middle;\n",
       "    }\n",
       "\n",
       "    .dataframe tbody tr th {\n",
       "        vertical-align: top;\n",
       "    }\n",
       "\n",
       "    .dataframe thead th {\n",
       "        text-align: right;\n",
       "    }\n",
       "</style>\n",
       "<table border=\"1\" class=\"dataframe\">\n",
       "  <thead>\n",
       "    <tr style=\"text-align: right;\">\n",
       "      <th></th>\n",
       "      <th>url</th>\n",
       "      <th>address</th>\n",
       "      <th>name</th>\n",
       "      <th>online_order</th>\n",
       "      <th>book_table</th>\n",
       "      <th>rate</th>\n",
       "      <th>votes</th>\n",
       "      <th>phone</th>\n",
       "      <th>location</th>\n",
       "      <th>rest_type</th>\n",
       "      <th>dish_liked</th>\n",
       "      <th>cuisines</th>\n",
       "      <th>approx_cost(for two people)</th>\n",
       "      <th>reviews_list</th>\n",
       "      <th>menu_item</th>\n",
       "      <th>listed_in(type)</th>\n",
       "      <th>listed_in(city)</th>\n",
       "    </tr>\n",
       "  </thead>\n",
       "  <tbody>\n",
       "  </tbody>\n",
       "</table>\n",
       "</div>"
      ],
      "text/plain": [
       "Empty DataFrame\n",
       "Columns: [url, address, name, online_order, book_table, rate, votes, phone, location, rest_type, dish_liked, cuisines, approx_cost(for two people), reviews_list, menu_item, listed_in(type), listed_in(city)]\n",
       "Index: []"
      ]
     },
     "execution_count": 73,
     "metadata": {},
     "output_type": "execute_result"
    }
   ],
   "source": [
    "df_dups"
   ]
  },
  {
   "cell_type": "markdown",
   "id": "8e11ce5d-8ef9-4e66-911c-c6da3744072e",
   "metadata": {},
   "source": [
    "Renaming Columns"
   ]
  },
  {
   "cell_type": "code",
   "execution_count": 75,
   "id": "352c791a-2faa-4968-a8ff-7894e59778f8",
   "metadata": {},
   "outputs": [],
   "source": [
    "df.rename(columns = {'listed_in(type)' : 'theme'}, inplace = True)"
   ]
  },
  {
   "cell_type": "code",
   "execution_count": 77,
   "id": "a8e3d4e9-cf9e-4c65-98e4-a52fb2927ffa",
   "metadata": {},
   "outputs": [],
   "source": [
    "df.rename(columns = {'listed_in(city)' : 'city'}, inplace = True)"
   ]
  },
  {
   "cell_type": "code",
   "execution_count": 79,
   "id": "843b6314-8cb4-4b65-97d3-2b8274cdd23e",
   "metadata": {},
   "outputs": [],
   "source": [
    "df.rename(columns = {'approx_cost(for two people)' : 'cost'}, inplace = True)"
   ]
  },
  {
   "cell_type": "code",
   "execution_count": 81,
   "id": "a7b0d15a-3414-4fd3-9e7d-ffa21ebe6450",
   "metadata": {},
   "outputs": [
    {
     "data": {
      "text/plain": [
       "Index(['url', 'address', 'name', 'online_order', 'book_table', 'rate', 'votes',\n",
       "       'phone', 'location', 'rest_type', 'dish_liked', 'cuisines', 'cost',\n",
       "       'reviews_list', 'menu_item', 'theme', 'city'],\n",
       "      dtype='object')"
      ]
     },
     "execution_count": 81,
     "metadata": {},
     "output_type": "execute_result"
    }
   ],
   "source": [
    "df.columns"
   ]
  },
  {
   "cell_type": "markdown",
   "id": "f6832b62-a036-4edf-b195-4521e1186414",
   "metadata": {},
   "source": [
    "Changing Data Type"
   ]
  },
  {
   "cell_type": "code",
   "execution_count": 83,
   "id": "992dd49e-6433-4f18-bec9-3af001b47d4a",
   "metadata": {},
   "outputs": [],
   "source": [
    "df['votes'] = pd.to_numeric(df['votes'], errors='coerce')"
   ]
  },
  {
   "cell_type": "code",
   "execution_count": 85,
   "id": "862a4a84-801a-474c-a61a-67d38c245006",
   "metadata": {},
   "outputs": [],
   "source": [
    "df['cost'] = df['cost'].astype(str)"
   ]
  },
  {
   "cell_type": "code",
   "execution_count": 87,
   "id": "2d28712c-eff1-49cd-903b-6325a45f4952",
   "metadata": {},
   "outputs": [],
   "source": [
    "df['cost'] = df['cost'].str.replace(r\",\", \"\", regex=True)\n",
    "df['cost'] = df['cost'].str.extract(r\"(\\d+)\", expand=False)"
   ]
  },
  {
   "cell_type": "code",
   "execution_count": 89,
   "id": "7ae37266-47f6-4a58-9bbe-6fece612cb6b",
   "metadata": {},
   "outputs": [],
   "source": [
    "# Convert to numeric type (float o int)\n",
    "df['cost'] = pd.to_numeric(df['cost'], errors='coerce')"
   ]
  },
  {
   "cell_type": "code",
   "execution_count": 91,
   "id": "4a818352-e7cf-49c6-b116-f62ed8c833eb",
   "metadata": {},
   "outputs": [
    {
     "name": "stdout",
     "output_type": "stream",
     "text": [
      "<class 'pandas.core.frame.DataFrame'>\n",
      "Index: 23193 entries, 0 to 51715\n",
      "Data columns (total 1 columns):\n",
      " #   Column  Non-Null Count  Dtype\n",
      "---  ------  --------------  -----\n",
      " 0   cost    23193 non-null  int64\n",
      "dtypes: int64(1)\n",
      "memory usage: 362.4 KB\n",
      "None\n",
      "0     800\n",
      "1     800\n",
      "2     800\n",
      "3     300\n",
      "4     600\n",
      "5     600\n",
      "7     600\n",
      "8     700\n",
      "9     550\n",
      "10    500\n",
      "Name: cost, dtype: int64\n"
     ]
    }
   ],
   "source": [
    "# Verify the cleaning\n",
    "print(df[['cost']].info())\n",
    "print(df['cost'].head(10))"
   ]
  },
  {
   "cell_type": "code",
   "execution_count": 93,
   "id": "9f29a7ea-b928-4356-a528-713e5a43ca61",
   "metadata": {},
   "outputs": [],
   "source": [
    "df['rate'] = df['rate'].astype(str).str.strip()"
   ]
  },
  {
   "cell_type": "code",
   "execution_count": 95,
   "id": "2a657a38-df3e-43c2-a58f-a76a20682dcd",
   "metadata": {},
   "outputs": [],
   "source": [
    "df['rate'] = df['rate'].str.replace(\" \", \"\", regex=False)"
   ]
  },
  {
   "cell_type": "code",
   "execution_count": 97,
   "id": "ce5b0930-7a33-4c06-8150-36c129d4a7be",
   "metadata": {},
   "outputs": [
    {
     "name": "stdout",
     "output_type": "stream",
     "text": [
      "rate\n",
      "3.9/5    3238\n",
      "4.0/5    2860\n",
      "4.1/5    2786\n",
      "3.8/5    2473\n",
      "4.2/5    2097\n",
      "4.3/5    1671\n",
      "3.7/5    1639\n",
      "4.4/5    1123\n",
      "3.6/5     875\n",
      "4.5/5     630\n",
      "3.5/5     482\n",
      "3.4/5     351\n",
      "2.8/5     315\n",
      "2.9/5     309\n",
      "3.1/5     307\n",
      "4.6/5     294\n",
      "3.0/5     291\n",
      "3.2/5     249\n",
      "3.3/5     218\n",
      "2.7/5     190\n",
      "4.7/5     167\n",
      "NEW       147\n",
      "2.6/5     138\n",
      "4.8/5      66\n",
      "2.5/5      57\n",
      "4.9/5      55\n",
      "2.4/5      54\n",
      "2.3/5      45\n",
      "2.2/5      26\n",
      "2.1/5      24\n",
      "2.0/5      11\n",
      "1.8/5       5\n",
      "Name: count, dtype: int64\n"
     ]
    }
   ],
   "source": [
    "print(df['rate'].value_counts(dropna=False))"
   ]
  },
  {
   "cell_type": "code",
   "execution_count": 99,
   "id": "cb2664ae-eab5-4522-88ea-2809aa525775",
   "metadata": {},
   "outputs": [],
   "source": [
    "df['rate'] = df['rate'].replace(\"NEW\", np.nan)"
   ]
  },
  {
   "cell_type": "code",
   "execution_count": 101,
   "id": "ac98132d-8c05-4105-a00a-62b3dcf0574a",
   "metadata": {},
   "outputs": [
    {
     "name": "stdout",
     "output_type": "stream",
     "text": [
      "147\n"
     ]
    }
   ],
   "source": [
    "print(df['rate'].isnull().sum())"
   ]
  },
  {
   "cell_type": "code",
   "execution_count": 109,
   "id": "feb5cc8b-bd94-4e75-9788-050f1acdef33",
   "metadata": {},
   "outputs": [
    {
     "name": "stdout",
     "output_type": "stream",
     "text": [
      "rate\n",
      "3.9/5    3238\n",
      "4.0/5    2860\n",
      "4.1/5    2786\n",
      "3.8/5    2473\n",
      "4.2/5    2097\n",
      "4.3/5    1671\n",
      "3.7/5    1639\n",
      "4.4/5    1123\n",
      "3.6/5     875\n",
      "4.5/5     630\n",
      "3.5/5     482\n",
      "3.4/5     351\n",
      "2.8/5     315\n",
      "2.9/5     309\n",
      "3.1/5     307\n",
      "4.6/5     294\n",
      "3.0/5     291\n",
      "3.2/5     249\n",
      "3.3/5     218\n",
      "2.7/5     190\n",
      "4.7/5     167\n",
      "NaN       147\n",
      "2.6/5     138\n",
      "4.8/5      66\n",
      "2.5/5      57\n",
      "4.9/5      55\n",
      "2.4/5      54\n",
      "2.3/5      45\n",
      "2.2/5      26\n",
      "2.1/5      24\n",
      "2.0/5      11\n",
      "1.8/5       5\n",
      "Name: count, dtype: int64\n"
     ]
    }
   ],
   "source": [
    "print(df['rate'].value_counts(dropna=False))"
   ]
  },
  {
   "cell_type": "code",
   "execution_count": 107,
   "id": "c088800e-52ec-4b2d-a92c-df5bbd9aa537",
   "metadata": {},
   "outputs": [
    {
     "name": "stdout",
     "output_type": "stream",
     "text": [
      "<class 'pandas.core.frame.DataFrame'>\n",
      "Index: 23193 entries, 0 to 51715\n",
      "Data columns (total 17 columns):\n",
      " #   Column        Non-Null Count  Dtype \n",
      "---  ------        --------------  ----- \n",
      " 0   url           23193 non-null  object\n",
      " 1   address       23193 non-null  object\n",
      " 2   name          23193 non-null  object\n",
      " 3   online_order  23193 non-null  object\n",
      " 4   book_table    23193 non-null  object\n",
      " 5   rate          23046 non-null  object\n",
      " 6   votes         23193 non-null  int64 \n",
      " 7   phone         23193 non-null  object\n",
      " 8   location      23193 non-null  object\n",
      " 9   rest_type     23193 non-null  object\n",
      " 10  dish_liked    23193 non-null  object\n",
      " 11  cuisines      23193 non-null  object\n",
      " 12  cost          23193 non-null  int64 \n",
      " 13  reviews_list  23193 non-null  object\n",
      " 14  menu_item     23193 non-null  object\n",
      " 15  theme         23193 non-null  object\n",
      " 16  city          23193 non-null  object\n",
      "dtypes: int64(2), object(15)\n",
      "memory usage: 3.2+ MB\n"
     ]
    }
   ],
   "source": [
    "df.info()"
   ]
  },
  {
   "cell_type": "code",
   "execution_count": 111,
   "id": "08eddc71-646b-489a-a3ff-3e24bc75e858",
   "metadata": {},
   "outputs": [
    {
     "name": "stdout",
     "output_type": "stream",
     "text": [
      "float64\n",
      "0    4.1\n",
      "1    4.1\n",
      "2    3.8\n",
      "3    3.7\n",
      "4    3.8\n",
      "Name: rate, dtype: float64\n"
     ]
    }
   ],
   "source": [
    "df['rate'] = df['rate'].str.replace(\"/5\", \"\", regex=False)\n",
    "df['rate'] = pd.to_numeric(df['rate'], errors='coerce')\n",
    "\n",
    "print(df['rate'].dtype)\n",
    "print(df['rate'].head())"
   ]
  },
  {
   "cell_type": "code",
   "execution_count": 113,
   "id": "df66514c-bfa4-4ef0-9b41-17bd0480693e",
   "metadata": {},
   "outputs": [
    {
     "name": "stdout",
     "output_type": "stream",
     "text": [
      "<class 'pandas.core.frame.DataFrame'>\n",
      "Index: 23193 entries, 0 to 51715\n",
      "Data columns (total 17 columns):\n",
      " #   Column        Non-Null Count  Dtype  \n",
      "---  ------        --------------  -----  \n",
      " 0   url           23193 non-null  object \n",
      " 1   address       23193 non-null  object \n",
      " 2   name          23193 non-null  object \n",
      " 3   online_order  23193 non-null  object \n",
      " 4   book_table    23193 non-null  object \n",
      " 5   rate          23046 non-null  float64\n",
      " 6   votes         23193 non-null  int64  \n",
      " 7   phone         23193 non-null  object \n",
      " 8   location      23193 non-null  object \n",
      " 9   rest_type     23193 non-null  object \n",
      " 10  dish_liked    23193 non-null  object \n",
      " 11  cuisines      23193 non-null  object \n",
      " 12  cost          23193 non-null  int64  \n",
      " 13  reviews_list  23193 non-null  object \n",
      " 14  menu_item     23193 non-null  object \n",
      " 15  theme         23193 non-null  object \n",
      " 16  city          23193 non-null  object \n",
      "dtypes: float64(1), int64(2), object(14)\n",
      "memory usage: 3.2+ MB\n"
     ]
    }
   ],
   "source": [
    "df.info()"
   ]
  },
  {
   "cell_type": "markdown",
   "id": "b762c521-5a3c-48ae-a391-db0a5c97d94b",
   "metadata": {},
   "source": [
    "### Step 4 Explore your data visually (e.g., by way of a scatterplot), looking for variables whose relationship you’d like to test."
   ]
  },
  {
   "cell_type": "code",
   "execution_count": 165,
   "id": "e54fb9e6-887e-4b86-83d0-0a9f4d4cc8e1",
   "metadata": {},
   "outputs": [
    {
     "data": {
      "image/png": "[encoded data removed]",
      "text/plain": [
       "<Figure size 1000x600 with 1 Axes>"
      ]
     },
     "metadata": {},
     "output_type": "display_data"
    }
   ],
   "source": [
    "plt.figure(figsize=(10, 6))\n",
    "sns.scatterplot(x='cost', y='rate', data=df, alpha=0.7)\n",
    "\n",
    "plt.title('Scatter Plot: Cost vs Rate', fontsize=16)\n",
    "plt.xlabel('Cost (for two people)', fontsize=14)\n",
    "plt.ylabel('Rating (Rate)', fontsize=14)\n",
    "\n",
    "plt.show()"
   ]
  },
  {
   "cell_type": "markdown",
   "id": "6aa3d5e7-7a2e-4833-a9bf-c39623a476d0",
   "metadata": {},
   "source": [
    "### Step 5 State your hypothesis in a markdown cell within your Jupyter notebook"
   ]
  },
  {
   "cell_type": "markdown",
   "id": "fcc0481b-096f-46df-be9c-aaef33c2ccae",
   "metadata": {},
   "source": [
    "The scatter plot would look relatively spread out and noisy, indicating a weak predictive power of cost on the rating.\n",
    "\n",
    "### Hypothesis:\n",
    "\n",
    "There is no significant relationship between the cost of a restaurant and its rating (rate). The cost does not predict or influence the rating in a meaningful way."
   ]
  },
  {
   "cell_type": "markdown",
   "id": "bd357f52-a2a0-4a95-9b8b-609374e2bfa4",
   "metadata": {},
   "source": [
    "### Step 6 Reshape the variables into NumPy arrays, with X being the independent variable and y being the dependent variable."
   ]
  },
  {
   "cell_type": "code",
   "execution_count": 159,
   "id": "a29e6181-d916-4177-a488-18b1ae770868",
   "metadata": {},
   "outputs": [],
   "source": [
    "X = df['cost'].values.reshape(-1,1)\n",
    "y = df['rate'].values.reshape(-1,1)"
   ]
  },
  {
   "cell_type": "code",
   "execution_count": 161,
   "id": "35292d60-54f4-4e6c-98fe-d07547bd0ac2",
   "metadata": {},
   "outputs": [
    {
     "data": {
      "text/plain": [
       "array([[ 800],\n",
       "       [ 800],\n",
       "       [ 800],\n",
       "       ...,\n",
       "       [1200],\n",
       "       [ 800],\n",
       "       [2500]], dtype=int64)"
      ]
     },
     "execution_count": 161,
     "metadata": {},
     "output_type": "execute_result"
    }
   ],
   "source": [
    "X"
   ]
  },
  {
   "cell_type": "code",
   "execution_count": 163,
   "id": "41e69b2f-9f1b-41fd-96b9-0de1ef3a7463",
   "metadata": {},
   "outputs": [
    {
     "data": {
      "text/plain": [
       "array([[4.1],\n",
       "       [4.1],\n",
       "       [3.8],\n",
       "       ...,\n",
       "       [2.8],\n",
       "       [2.5],\n",
       "       [4.3]])"
      ]
     },
     "execution_count": 163,
     "metadata": {},
     "output_type": "execute_result"
    }
   ],
   "source": [
    "y"
   ]
  },
  {
   "cell_type": "markdown",
   "id": "627445b9-5448-4c3d-900f-25b812ad0caf",
   "metadata": {},
   "source": [
    "### Step 7 Split the data into two sets: a training set and a test set."
   ]
  },
  {
   "cell_type": "code",
   "execution_count": 167,
   "id": "e35b61e9-668d-4b39-b748-e3672f7bfbb1",
   "metadata": {},
   "outputs": [],
   "source": [
    "X_train, X_test, y_train, y_test = train_test_split(X, y, test_size=0.3, random_state=0)"
   ]
  },
  {
   "cell_type": "markdown",
   "id": "d37e0d72-38c0-42b0-a799-1ca6c1a74bbd",
   "metadata": {},
   "source": [
    "### Step 8 Run a linear regression on the data.\n",
    "\n",
    "First, fit the model you created to the training set.\n",
    "\n",
    "Then, create a prediction for y on the test set."
   ]
  },
  {
   "cell_type": "code",
   "execution_count": 169,
   "id": "e28d63bb-a81b-4507-8ef7-6e778bb9c4e9",
   "metadata": {},
   "outputs": [],
   "source": [
    "# Create a regression object.\n",
    "\n",
    "regression = LinearRegression()  # This is the regression object, which will be fit onto the training set."
   ]
  },
  {
   "cell_type": "code",
   "execution_count": 175,
   "id": "538b793d-d046-49f5-bd8e-34911feecb83",
   "metadata": {},
   "outputs": [
    {
     "data": {
      "text/html": [
       "<style>#sk-container-id-3 {\n",
       "  /* Definition of color scheme common for light and dark mode */\n",
       "  --sklearn-color-text: black;\n",
       "  --sklearn-color-line: gray;\n",
       "  /* Definition of color scheme for unfitted estimators */\n",
       "  --sklearn-color-unfitted-level-0: #fff5e6;\n",
       "  --sklearn-color-unfitted-level-1: #f6e4d2;\n",
       "  --sklearn-color-unfitted-level-2: #ffe0b3;\n",
       "  --sklearn-color-unfitted-level-3: chocolate;\n",
       "  /* Definition of color scheme for fitted estimators */\n",
       "  --sklearn-color-fitted-level-0: #f0f8ff;\n",
       "  --sklearn-color-fitted-level-1: #d4ebff;\n",
       "  --sklearn-color-fitted-level-2: #b3dbfd;\n",
       "  --sklearn-color-fitted-level-3: cornflowerblue;\n",
       "\n",
       "  /* Specific color for light theme */\n",
       "  --sklearn-color-text-on-default-background: var(--sg-text-color, var(--theme-code-foreground, var(--jp-content-font-color1, black)));\n",
       "  --sklearn-color-background: var(--sg-background-color, var(--theme-background, var(--jp-layout-color0, white)));\n",
       "  --sklearn-color-border-box: var(--sg-text-color, var(--theme-code-foreground, var(--jp-content-font-color1, black)));\n",
       "  --sklearn-color-icon: #696969;\n",
       "\n",
       "  @media (prefers-color-scheme: dark) {\n",
       "    /* Redefinition of color scheme for dark theme */\n",
       "    --sklearn-color-text-on-default-background: var(--sg-text-color, var(--theme-code-foreground, var(--jp-content-font-color1, white)));\n",
       "    --sklearn-color-background: var(--sg-background-color, var(--theme-background, var(--jp-layout-color0, #111)));\n",
       "    --sklearn-color-border-box: var(--sg-text-color, var(--theme-code-foreground, var(--jp-content-font-color1, white)));\n",
       "    --sklearn-color-icon: #878787;\n",
       "  }\n",
       "}\n",
       "\n",
       "#sk-container-id-3 {\n",
       "  color: var(--sklearn-color-text);\n",
       "}\n",
       "\n",
       "#sk-container-id-3 pre {\n",
       "  padding: 0;\n",
       "}\n",
       "\n",
       "#sk-container-id-3 input.sk-hidden--visually {\n",
       "  border: 0;\n",
       "  clip: rect(1px 1px 1px 1px);\n",
       "  clip: rect(1px, 1px, 1px, 1px);\n",
       "  height: 1px;\n",
       "  margin: -1px;\n",
       "  overflow: hidden;\n",
       "  padding: 0;\n",
       "  position: absolute;\n",
       "  width: 1px;\n",
       "}\n",
       "\n",
       "#sk-container-id-3 div.sk-dashed-wrapped {\n",
       "  border: 1px dashed var(--sklearn-color-line);\n",
       "  margin: 0 0.4em 0.5em 0.4em;\n",
       "  box-sizing: border-box;\n",
       "  padding-bottom: 0.4em;\n",
       "  background-color: var(--sklearn-color-background);\n",
       "}\n",
       "\n",
       "#sk-container-id-3 div.sk-container {\n",
       "  /* jupyter's `normalize.less` sets `[hidden] { display: none; }`\n",
       "     but bootstrap.min.css set `[hidden] { display: none !important; }`\n",
       "     so we also need the `!important` here to be able to override the\n",
       "     default hidden behavior on the sphinx rendered scikit-learn.org.\n",
       "     See: https://github.com/scikit-learn/scikit-learn/issues/21755 */\n",
       "  display: inline-block !important;\n",
       "  position: relative;\n",
       "}\n",
       "\n",
       "#sk-container-id-3 div.sk-text-repr-fallback {\n",
       "  display: none;\n",
       "}\n",
       "\n",
       "div.sk-parallel-item,\n",
       "div.sk-serial,\n",
       "div.sk-item {\n",
       "  /* draw centered vertical line to link estimators */\n",
       "  background-image: linear-gradient(var(--sklearn-color-text-on-default-background), var(--sklearn-color-text-on-default-background));\n",
       "  background-size: 2px 100%;\n",
       "  background-repeat: no-repeat;\n",
       "  background-position: center center;\n",
       "}\n",
       "\n",
       "/* Parallel-specific style estimator block */\n",
       "\n",
       "#sk-container-id-3 div.sk-parallel-item::after {\n",
       "  content: \"\";\n",
       "  width: 100%;\n",
       "  border-bottom: 2px solid var(--sklearn-color-text-on-default-background);\n",
       "  flex-grow: 1;\n",
       "}\n",
       "\n",
       "#sk-container-id-3 div.sk-parallel {\n",
       "  display: flex;\n",
       "  align-items: stretch;\n",
       "  justify-content: center;\n",
       "  background-color: var(--sklearn-color-background);\n",
       "  position: relative;\n",
       "}\n",
       "\n",
       "#sk-container-id-3 div.sk-parallel-item {\n",
       "  display: flex;\n",
       "  flex-direction: column;\n",
       "}\n",
       "\n",
       "#sk-container-id-3 div.sk-parallel-item:first-child::after {\n",
       "  align-self: flex-end;\n",
       "  width: 50%;\n",
       "}\n",
       "\n",
       "#sk-container-id-3 div.sk-parallel-item:last-child::after {\n",
       "  align-self: flex-start;\n",
       "  width: 50%;\n",
       "}\n",
       "\n",
       "#sk-container-id-3 div.sk-parallel-item:only-child::after {\n",
       "  width: 0;\n",
       "}\n",
       "\n",
       "/* Serial-specific style estimator block */\n",
       "\n",
       "#sk-container-id-3 div.sk-serial {\n",
       "  display: flex;\n",
       "  flex-direction: column;\n",
       "  align-items: center;\n",
       "  background-color: var(--sklearn-color-background);\n",
       "  padding-right: 1em;\n",
       "  padding-left: 1em;\n",
       "}\n",
       "\n",
       "\n",
       "/* Toggleable style: style used for estimator/Pipeline/ColumnTransformer box that is\n",
       "clickable and can be expanded/collapsed.\n",
       "- Pipeline and ColumnTransformer use this feature and define the default style\n",
       "- Estimators will overwrite some part of the style using the `sk-estimator` class\n",
       "*/\n",
       "\n",
       "/* Pipeline and ColumnTransformer style (default) */\n",
       "\n",
       "#sk-container-id-3 div.sk-toggleable {\n",
       "  /* Default theme specific background. It is overwritten whether we have a\n",
       "  specific estimator or a Pipeline/ColumnTransformer */\n",
       "  background-color: var(--sklearn-color-background);\n",
       "}\n",
       "\n",
       "/* Toggleable label */\n",
       "#sk-container-id-3 label.sk-toggleable__label {\n",
       "  cursor: pointer;\n",
       "  display: block;\n",
       "  width: 100%;\n",
       "  margin-bottom: 0;\n",
       "  padding: 0.5em;\n",
       "  box-sizing: border-box;\n",
       "  text-align: center;\n",
       "}\n",
       "\n",
       "#sk-container-id-3 label.sk-toggleable__label-arrow:before {\n",
       "  /* Arrow on the left of the label */\n",
       "  content: \"▸\";\n",
       "  float: left;\n",
       "  margin-right: 0.25em;\n",
       "  color: var(--sklearn-color-icon);\n",
       "}\n",
       "\n",
       "#sk-container-id-3 label.sk-toggleable__label-arrow:hover:before {\n",
       "  color: var(--sklearn-color-text);\n",
       "}\n",
       "\n",
       "/* Toggleable content - dropdown */\n",
       "\n",
       "#sk-container-id-3 div.sk-toggleable__content {\n",
       "  max-height: 0;\n",
       "  max-width: 0;\n",
       "  overflow: hidden;\n",
       "  text-align: left;\n",
       "  /* unfitted */\n",
       "  background-color: var(--sklearn-color-unfitted-level-0);\n",
       "}\n",
       "\n",
       "#sk-container-id-3 div.sk-toggleable__content.fitted {\n",
       "  /* fitted */\n",
       "  background-color: var(--sklearn-color-fitted-level-0);\n",
       "}\n",
       "\n",
       "#sk-container-id-3 div.sk-toggleable__content pre {\n",
       "  margin: 0.2em;\n",
       "  border-radius: 0.25em;\n",
       "  color: var(--sklearn-color-text);\n",
       "  /* unfitted */\n",
       "  background-color: var(--sklearn-color-unfitted-level-0);\n",
       "}\n",
       "\n",
       "#sk-container-id-3 div.sk-toggleable__content.fitted pre {\n",
       "  /* unfitted */\n",
       "  background-color: var(--sklearn-color-fitted-level-0);\n",
       "}\n",
       "\n",
       "#sk-container-id-3 input.sk-toggleable__control:checked~div.sk-toggleable__content {\n",
       "  /* Expand drop-down */\n",
       "  max-height: 200px;\n",
       "  max-width: 100%;\n",
       "  overflow: auto;\n",
       "}\n",
       "\n",
       "#sk-container-id-3 input.sk-toggleable__control:checked~label.sk-toggleable__label-arrow:before {\n",
       "  content: \"▾\";\n",
       "}\n",
       "\n",
       "/* Pipeline/ColumnTransformer-specific style */\n",
       "\n",
       "#sk-container-id-3 div.sk-label input.sk-toggleable__control:checked~label.sk-toggleable__label {\n",
       "  color: var(--sklearn-color-text);\n",
       "  background-color: var(--sklearn-color-unfitted-level-2);\n",
       "}\n",
       "\n",
       "#sk-container-id-3 div.sk-label.fitted input.sk-toggleable__control:checked~label.sk-toggleable__label {\n",
       "  background-color: var(--sklearn-color-fitted-level-2);\n",
       "}\n",
       "\n",
       "/* Estimator-specific style */\n",
       "\n",
       "/* Colorize estimator box */\n",
       "#sk-container-id-3 div.sk-estimator input.sk-toggleable__control:checked~label.sk-toggleable__label {\n",
       "  /* unfitted */\n",
       "  background-color: var(--sklearn-color-unfitted-level-2);\n",
       "}\n",
       "\n",
       "#sk-container-id-3 div.sk-estimator.fitted input.sk-toggleable__control:checked~label.sk-toggleable__label {\n",
       "  /* fitted */\n",
       "  background-color: var(--sklearn-color-fitted-level-2);\n",
       "}\n",
       "\n",
       "#sk-container-id-3 div.sk-label label.sk-toggleable__label,\n",
       "#sk-container-id-3 div.sk-label label {\n",
       "  /* The background is the default theme color */\n",
       "  color: var(--sklearn-color-text-on-default-background);\n",
       "}\n",
       "\n",
       "/* On hover, darken the color of the background */\n",
       "#sk-container-id-3 div.sk-label:hover label.sk-toggleable__label {\n",
       "  color: var(--sklearn-color-text);\n",
       "  background-color: var(--sklearn-color-unfitted-level-2);\n",
       "}\n",
       "\n",
       "/* Label box, darken color on hover, fitted */\n",
       "#sk-container-id-3 div.sk-label.fitted:hover label.sk-toggleable__label.fitted {\n",
       "  color: var(--sklearn-color-text);\n",
       "  background-color: var(--sklearn-color-fitted-level-2);\n",
       "}\n",
       "\n",
       "/* Estimator label */\n",
       "\n",
       "#sk-container-id-3 div.sk-label label {\n",
       "  font-family: monospace;\n",
       "  font-weight: bold;\n",
       "  display: inline-block;\n",
       "  line-height: 1.2em;\n",
       "}\n",
       "\n",
       "#sk-container-id-3 div.sk-label-container {\n",
       "  text-align: center;\n",
       "}\n",
       "\n",
       "/* Estimator-specific */\n",
       "#sk-container-id-3 div.sk-estimator {\n",
       "  font-family: monospace;\n",
       "  border: 1px dotted var(--sklearn-color-border-box);\n",
       "  border-radius: 0.25em;\n",
       "  box-sizing: border-box;\n",
       "  margin-bottom: 0.5em;\n",
       "  /* unfitted */\n",
       "  background-color: var(--sklearn-color-unfitted-level-0);\n",
       "}\n",
       "\n",
       "#sk-container-id-3 div.sk-estimator.fitted {\n",
       "  /* fitted */\n",
       "  background-color: var(--sklearn-color-fitted-level-0);\n",
       "}\n",
       "\n",
       "/* on hover */\n",
       "#sk-container-id-3 div.sk-estimator:hover {\n",
       "  /* unfitted */\n",
       "  background-color: var(--sklearn-color-unfitted-level-2);\n",
       "}\n",
       "\n",
       "#sk-container-id-3 div.sk-estimator.fitted:hover {\n",
       "  /* fitted */\n",
       "  background-color: var(--sklearn-color-fitted-level-2);\n",
       "}\n",
       "\n",
       "/* Specification for estimator info (e.g. \"i\" and \"?\") */\n",
       "\n",
       "/* Common style for \"i\" and \"?\" */\n",
       "\n",
       ".sk-estimator-doc-link,\n",
       "a:link.sk-estimator-doc-link,\n",
       "a:visited.sk-estimator-doc-link {\n",
       "  float: right;\n",
       "  font-size: smaller;\n",
       "  line-height: 1em;\n",
       "  font-family: monospace;\n",
       "  background-color: var(--sklearn-color-background);\n",
       "  border-radius: 1em;\n",
       "  height: 1em;\n",
       "  width: 1em;\n",
       "  text-decoration: none !important;\n",
       "  margin-left: 1ex;\n",
       "  /* unfitted */\n",
       "  border: var(--sklearn-color-unfitted-level-1) 1pt solid;\n",
       "  color: var(--sklearn-color-unfitted-level-1);\n",
       "}\n",
       "\n",
       ".sk-estimator-doc-link.fitted,\n",
       "a:link.sk-estimator-doc-link.fitted,\n",
       "a:visited.sk-estimator-doc-link.fitted {\n",
       "  /* fitted */\n",
       "  border: var(--sklearn-color-fitted-level-1) 1pt solid;\n",
       "  color: var(--sklearn-color-fitted-level-1);\n",
       "}\n",
       "\n",
       "/* On hover */\n",
       "div.sk-estimator:hover .sk-estimator-doc-link:hover,\n",
       ".sk-estimator-doc-link:hover,\n",
       "div.sk-label-container:hover .sk-estimator-doc-link:hover,\n",
       ".sk-estimator-doc-link:hover {\n",
       "  /* unfitted */\n",
       "  background-color: var(--sklearn-color-unfitted-level-3);\n",
       "  color: var(--sklearn-color-background);\n",
       "  text-decoration: none;\n",
       "}\n",
       "\n",
       "div.sk-estimator.fitted:hover .sk-estimator-doc-link.fitted:hover,\n",
       ".sk-estimator-doc-link.fitted:hover,\n",
       "div.sk-label-container:hover .sk-estimator-doc-link.fitted:hover,\n",
       ".sk-estimator-doc-link.fitted:hover {\n",
       "  /* fitted */\n",
       "  background-color: var(--sklearn-color-fitted-level-3);\n",
       "  color: var(--sklearn-color-background);\n",
       "  text-decoration: none;\n",
       "}\n",
       "\n",
       "/* Span, style for the box shown on hovering the info icon */\n",
       ".sk-estimator-doc-link span {\n",
       "  display: none;\n",
       "  z-index: 9999;\n",
       "  position: relative;\n",
       "  font-weight: normal;\n",
       "  right: .2ex;\n",
       "  padding: .5ex;\n",
       "  margin: .5ex;\n",
       "  width: min-content;\n",
       "  min-width: 20ex;\n",
       "  max-width: 50ex;\n",
       "  color: var(--sklearn-color-text);\n",
       "  box-shadow: 2pt 2pt 4pt #999;\n",
       "  /* unfitted */\n",
       "  background: var(--sklearn-color-unfitted-level-0);\n",
       "  border: .5pt solid var(--sklearn-color-unfitted-level-3);\n",
       "}\n",
       "\n",
       ".sk-estimator-doc-link.fitted span {\n",
       "  /* fitted */\n",
       "  background: var(--sklearn-color-fitted-level-0);\n",
       "  border: var(--sklearn-color-fitted-level-3);\n",
       "}\n",
       "\n",
       ".sk-estimator-doc-link:hover span {\n",
       "  display: block;\n",
       "}\n",
       "\n",
       "/* \"?\"-specific style due to the `<a>` HTML tag */\n",
       "\n",
       "#sk-container-id-3 a.estimator_doc_link {\n",
       "  float: right;\n",
       "  font-size: 1rem;\n",
       "  line-height: 1em;\n",
       "  font-family: monospace;\n",
       "  background-color: var(--sklearn-color-background);\n",
       "  border-radius: 1rem;\n",
       "  height: 1rem;\n",
       "  width: 1rem;\n",
       "  text-decoration: none;\n",
       "  /* unfitted */\n",
       "  color: var(--sklearn-color-unfitted-level-1);\n",
       "  border: var(--sklearn-color-unfitted-level-1) 1pt solid;\n",
       "}\n",
       "\n",
       "#sk-container-id-3 a.estimator_doc_link.fitted {\n",
       "  /* fitted */\n",
       "  border: var(--sklearn-color-fitted-level-1) 1pt solid;\n",
       "  color: var(--sklearn-color-fitted-level-1);\n",
       "}\n",
       "\n",
       "/* On hover */\n",
       "#sk-container-id-3 a.estimator_doc_link:hover {\n",
       "  /* unfitted */\n",
       "  background-color: var(--sklearn-color-unfitted-level-3);\n",
       "  color: var(--sklearn-color-background);\n",
       "  text-decoration: none;\n",
       "}\n",
       "\n",
       "#sk-container-id-3 a.estimator_doc_link.fitted:hover {\n",
       "  /* fitted */\n",
       "  background-color: var(--sklearn-color-fitted-level-3);\n",
       "}\n",
       "</style><div id=\"sk-container-id-3\" class=\"sk-top-container\"><div class=\"sk-text-repr-fallback\"><pre>LinearRegression()</pre><b>In a Jupyter environment, please rerun this cell to show the HTML representation or trust the notebook. <br />On GitHub, the HTML representation is unable to render, please try loading this page with nbviewer.org.</b></div><div class=\"sk-container\" hidden><div class=\"sk-item\"><div class=\"sk-estimator fitted sk-toggleable\"><input class=\"sk-toggleable__control sk-hidden--visually\" id=\"sk-estimator-id-3\" type=\"checkbox\" checked><label for=\"sk-estimator-id-3\" class=\"sk-toggleable__label fitted sk-toggleable__label-arrow fitted\">&nbsp;&nbsp;LinearRegression<a class=\"sk-estimator-doc-link fitted\" rel=\"noreferrer\" target=\"_blank\" href=\"https://scikit-learn.org/1.5/modules/generated/sklearn.linear_model.LinearRegression.html\">?<span>Documentation for LinearRegression</span></a><span class=\"sk-estimator-doc-link fitted\">i<span>Fitted</span></span></label><div class=\"sk-toggleable__content fitted\"><pre>LinearRegression()</pre></div> </div></div></div></div>"
      ],
      "text/plain": [
       "LinearRegression()"
      ]
     },
     "execution_count": 175,
     "metadata": {},
     "output_type": "execute_result"
    }
   ],
   "source": [
    "# Fit the regression object onto the training set.\n",
    "\n",
    "regression.fit(X_train, y_train)"
   ]
  },
  {
   "cell_type": "code",
   "execution_count": 155,
   "id": "26eddd5b-951d-454b-acf7-cc1a44ccb9f0",
   "metadata": {},
   "outputs": [],
   "source": [
    "df = df.dropna(subset=['cost', 'rate'])"
   ]
  },
  {
   "cell_type": "code",
   "execution_count": 177,
   "id": "3f1980b5-87bf-45de-bca0-6e49fe7fbf46",
   "metadata": {},
   "outputs": [],
   "source": [
    "# Predict the values of y using X.\n",
    "\n",
    "y_predicted = regression.predict(X_test)"
   ]
  },
  {
   "cell_type": "markdown",
   "id": "bb2f54cf-bf16-4e9e-99f0-2fb582bb4155",
   "metadata": {},
   "source": [
    "### Step 9 Create a plot that shows the regression line on the test set."
   ]
  },
  {
   "cell_type": "code",
   "execution_count": 179,
   "id": "6ce11ff5-53c5-4914-b7c5-05ab6e9be64c",
   "metadata": {},
   "outputs": [
    {
     "data": {
      "image/png": "[encoded data removed]",
      "text/plain": [
       "<Figure size 640x480 with 1 Axes>"
      ]
     },
     "metadata": {},
     "output_type": "display_data"
    }
   ],
   "source": [
    "# Create a plot that shows the regression line from the model on the test set.\n",
    "\n",
    "plot_test = plt\n",
    "plot_test.scatter(X_test, y_test, color='gray', s = 15)\n",
    "plot_test.plot(X_test, y_predicted, color='red', linewidth =3)\n",
    "plot_test.title('Cost vs Rate (Test set)')\n",
    "plot_test.xlabel('Cost (for two people)')\n",
    "plot_test.ylabel('Rating (Rate)')\n",
    "plot_test.show()"
   ]
  },
  {
   "cell_type": "markdown",
   "id": "fe5a11e6-884c-4045-8496-1f3898fe7506",
   "metadata": {},
   "source": [
    "### Step 10 Write your own interpretation of how well the line appears to fit the data in a markdown cell."
   ]
  },
  {
   "cell_type": "markdown",
   "id": "0a40b501-5344-4bab-ad87-710e347a91c0",
   "metadata": {},
   "source": [
    "The line indicates a very small positive linear relationship between cost and rate. This suggests that for every unit increase in cost, the predicted rating increases slightly, but the impact is very minor.\n",
    "\n",
    "The model is not far off in its predictions, but it still has some room for improvement. This means that the model's predictive power is very limited.\n",
    "\n",
    "The line could suggest that there are other factors not captured by the model that are influencing the ratings, and the relationship between cost and rate is weak."
   ]
  },
  {
   "cell_type": "markdown",
   "id": "af14966c-bb7d-46dc-9835-0e334f9caf0c",
   "metadata": {},
   "source": [
    "### Step 11 Check the model performance statistics—MSE and R2 score."
   ]
  },
  {
   "cell_type": "code",
   "execution_count": 184,
   "id": "221ebe0c-200a-42c7-b118-d0e57cbf6aa8",
   "metadata": {},
   "outputs": [],
   "source": [
    "# Create objects that contain the model summary statistics.\n",
    "\n",
    "rmse = mean_squared_error(y_test, y_predicted) # This is the mean squared error\n",
    "r2 = r2_score(y_test, y_predicted) # This is the R2 score. "
   ]
  },
  {
   "cell_type": "code",
   "execution_count": 186,
   "id": "d717e45a-e549-466a-b4ef-d31a24a9dd41",
   "metadata": {},
   "outputs": [
    {
     "name": "stdout",
     "output_type": "stream",
     "text": [
      "Slope: [[0.00025722]]\n",
      "Mean squared error:  0.16104079587187395\n",
      "R2 score:  0.10181694929991614\n"
     ]
    }
   ],
   "source": [
    "# Print the model summary statistics. This is where you evaluate the performance of the model.\n",
    "\n",
    "print('Slope:' ,regression.coef_)\n",
    "print('Mean squared error: ', rmse)\n",
    "print('R2 score: ', r2)"
   ]
  },
  {
   "cell_type": "markdown",
   "id": "5ad655d6-faa5-4ef0-a31d-5612a2fffebc",
   "metadata": {},
   "source": [
    "### Step 12 Compare the predicted y values with the actual y values in a dataframe."
   ]
  },
  {
   "cell_type": "code",
   "execution_count": 189,
   "id": "4deb5e6f-2be0-4838-a68f-e7527ca86d6f",
   "metadata": {},
   "outputs": [
    {
     "data": {
      "text/plain": [
       "array([[3.86463242],\n",
       "       [3.81318784],\n",
       "       [3.78746556],\n",
       "       ...,\n",
       "       [3.81318784],\n",
       "       [3.8003267 ],\n",
       "       [3.76174327]])"
      ]
     },
     "execution_count": 189,
     "metadata": {},
     "output_type": "execute_result"
    }
   ],
   "source": [
    "y_predicted"
   ]
  },
  {
   "cell_type": "code",
   "execution_count": 191,
   "id": "21841ca4-ff4a-4a4c-b2c1-232a0b3f97cd",
   "metadata": {},
   "outputs": [
    {
     "data": {
      "text/html": [
       "<div>\n",
       "<style scoped>\n",
       "    .dataframe tbody tr th:only-of-type {\n",
       "        vertical-align: middle;\n",
       "    }\n",
       "\n",
       "    .dataframe tbody tr th {\n",
       "        vertical-align: top;\n",
       "    }\n",
       "\n",
       "    .dataframe thead th {\n",
       "        text-align: right;\n",
       "    }\n",
       "</style>\n",
       "<table border=\"1\" class=\"dataframe\">\n",
       "  <thead>\n",
       "    <tr style=\"text-align: right;\">\n",
       "      <th></th>\n",
       "      <th>Actual</th>\n",
       "      <th>Predicted</th>\n",
       "    </tr>\n",
       "  </thead>\n",
       "  <tbody>\n",
       "    <tr>\n",
       "      <th>0</th>\n",
       "      <td>3.8</td>\n",
       "      <td>3.864632</td>\n",
       "    </tr>\n",
       "    <tr>\n",
       "      <th>1</th>\n",
       "      <td>4.0</td>\n",
       "      <td>3.813188</td>\n",
       "    </tr>\n",
       "    <tr>\n",
       "      <th>2</th>\n",
       "      <td>4.1</td>\n",
       "      <td>3.787466</td>\n",
       "    </tr>\n",
       "    <tr>\n",
       "      <th>3</th>\n",
       "      <td>4.7</td>\n",
       "      <td>3.941799</td>\n",
       "    </tr>\n",
       "    <tr>\n",
       "      <th>4</th>\n",
       "      <td>2.6</td>\n",
       "      <td>3.890355</td>\n",
       "    </tr>\n",
       "    <tr>\n",
       "      <th>5</th>\n",
       "      <td>3.8</td>\n",
       "      <td>3.813188</td>\n",
       "    </tr>\n",
       "    <tr>\n",
       "      <th>6</th>\n",
       "      <td>3.8</td>\n",
       "      <td>3.916077</td>\n",
       "    </tr>\n",
       "    <tr>\n",
       "      <th>7</th>\n",
       "      <td>3.7</td>\n",
       "      <td>3.877494</td>\n",
       "    </tr>\n",
       "    <tr>\n",
       "      <th>8</th>\n",
       "      <td>3.9</td>\n",
       "      <td>3.787466</td>\n",
       "    </tr>\n",
       "    <tr>\n",
       "      <th>9</th>\n",
       "      <td>4.1</td>\n",
       "      <td>3.838910</td>\n",
       "    </tr>\n",
       "    <tr>\n",
       "      <th>10</th>\n",
       "      <td>4.0</td>\n",
       "      <td>4.096133</td>\n",
       "    </tr>\n",
       "    <tr>\n",
       "      <th>11</th>\n",
       "      <td>3.8</td>\n",
       "      <td>3.787466</td>\n",
       "    </tr>\n",
       "    <tr>\n",
       "      <th>12</th>\n",
       "      <td>3.4</td>\n",
       "      <td>3.761743</td>\n",
       "    </tr>\n",
       "    <tr>\n",
       "      <th>13</th>\n",
       "      <td>3.2</td>\n",
       "      <td>3.877494</td>\n",
       "    </tr>\n",
       "    <tr>\n",
       "      <th>14</th>\n",
       "      <td>4.2</td>\n",
       "      <td>3.838910</td>\n",
       "    </tr>\n",
       "    <tr>\n",
       "      <th>15</th>\n",
       "      <td>4.2</td>\n",
       "      <td>3.813188</td>\n",
       "    </tr>\n",
       "    <tr>\n",
       "      <th>16</th>\n",
       "      <td>4.0</td>\n",
       "      <td>3.903216</td>\n",
       "    </tr>\n",
       "    <tr>\n",
       "      <th>17</th>\n",
       "      <td>3.9</td>\n",
       "      <td>3.864632</td>\n",
       "    </tr>\n",
       "    <tr>\n",
       "      <th>18</th>\n",
       "      <td>4.1</td>\n",
       "      <td>3.916077</td>\n",
       "    </tr>\n",
       "    <tr>\n",
       "      <th>19</th>\n",
       "      <td>2.8</td>\n",
       "      <td>3.787466</td>\n",
       "    </tr>\n",
       "    <tr>\n",
       "      <th>20</th>\n",
       "      <td>4.3</td>\n",
       "      <td>3.813188</td>\n",
       "    </tr>\n",
       "    <tr>\n",
       "      <th>21</th>\n",
       "      <td>4.1</td>\n",
       "      <td>3.890355</td>\n",
       "    </tr>\n",
       "    <tr>\n",
       "      <th>22</th>\n",
       "      <td>3.8</td>\n",
       "      <td>3.916077</td>\n",
       "    </tr>\n",
       "    <tr>\n",
       "      <th>23</th>\n",
       "      <td>3.1</td>\n",
       "      <td>3.838910</td>\n",
       "    </tr>\n",
       "    <tr>\n",
       "      <th>24</th>\n",
       "      <td>4.9</td>\n",
       "      <td>4.121855</td>\n",
       "    </tr>\n",
       "    <tr>\n",
       "      <th>25</th>\n",
       "      <td>4.1</td>\n",
       "      <td>3.774604</td>\n",
       "    </tr>\n",
       "    <tr>\n",
       "      <th>26</th>\n",
       "      <td>3.6</td>\n",
       "      <td>3.800327</td>\n",
       "    </tr>\n",
       "    <tr>\n",
       "      <th>27</th>\n",
       "      <td>3.8</td>\n",
       "      <td>3.890355</td>\n",
       "    </tr>\n",
       "    <tr>\n",
       "      <th>28</th>\n",
       "      <td>3.0</td>\n",
       "      <td>3.813188</td>\n",
       "    </tr>\n",
       "    <tr>\n",
       "      <th>29</th>\n",
       "      <td>4.1</td>\n",
       "      <td>3.916077</td>\n",
       "    </tr>\n",
       "  </tbody>\n",
       "</table>\n",
       "</div>"
      ],
      "text/plain": [
       "    Actual  Predicted\n",
       "0      3.8   3.864632\n",
       "1      4.0   3.813188\n",
       "2      4.1   3.787466\n",
       "3      4.7   3.941799\n",
       "4      2.6   3.890355\n",
       "5      3.8   3.813188\n",
       "6      3.8   3.916077\n",
       "7      3.7   3.877494\n",
       "8      3.9   3.787466\n",
       "9      4.1   3.838910\n",
       "10     4.0   4.096133\n",
       "11     3.8   3.787466\n",
       "12     3.4   3.761743\n",
       "13     3.2   3.877494\n",
       "14     4.2   3.838910\n",
       "15     4.2   3.813188\n",
       "16     4.0   3.903216\n",
       "17     3.9   3.864632\n",
       "18     4.1   3.916077\n",
       "19     2.8   3.787466\n",
       "20     4.3   3.813188\n",
       "21     4.1   3.890355\n",
       "22     3.8   3.916077\n",
       "23     3.1   3.838910\n",
       "24     4.9   4.121855\n",
       "25     4.1   3.774604\n",
       "26     3.6   3.800327\n",
       "27     3.8   3.890355\n",
       "28     3.0   3.813188\n",
       "29     4.1   3.916077"
      ]
     },
     "execution_count": 191,
     "metadata": {},
     "output_type": "execute_result"
    }
   ],
   "source": [
    "# Create a dataframe comparing the actual and predicted values of y.\n",
    "\n",
    "data = pd.DataFrame({'Actual': y_test.flatten(), 'Predicted': y_predicted.flatten()})\n",
    "data.head(30)"
   ]
  },
  {
   "cell_type": "markdown",
   "id": "84c0534a-a208-4a4c-9cc8-d85e16bcfea1",
   "metadata": {},
   "source": [
    "### Step 13 Include your thoughts on how well the model performed on the test set in a markdown cell.\n",
    "\n",
    "Include any reflections you have on the impact of possible data bias"
   ]
  },
  {
   "cell_type": "markdown",
   "id": "2f1cd4d5-a3c3-47ab-9626-5675a6b07b2c",
   "metadata": {},
   "source": [
    "### Reflections on Data Bias and Impact:\n",
    "### Data Bias:\n",
    "\n",
    "It's possible that the dataset has inherent biases. For example:\n",
    "\n",
    "Cost Bias: If higher-cost restaurants tend to be more popular or better rated, the model may mistakenly associate high cost with high ratings. Alternatively, if lower-cost restaurants are undervalued, the model might struggle to predict higher ratings for them.\n",
    "\n",
    "Rating Bias: Ratings might be subject to user bias, where certain types of restaurants (e.g., chains vs. local spots) or certain cuisines tend to attract more favorable reviews. This could distort the relationship between cost and rating, leading the model to perform poorly.\n",
    "\n",
    "### Impact on the Model:\n",
    "\n",
    "The model's low R² score and limited predictive power can be a result of these biases. The relationship between cost and rating might not be as straightforward as the model assumes, and external factors like the restaurant’s popularity, location, and food type could be influencing the ratings far more than cost.\n",
    "\n",
    "If certain restaurant types (e.g., luxury or fast food) are underrepresented in the data, the model will struggle to generalize well across all types, further exacerbating any prediction bias.\n",
    "\n",
    "### Improving the Model:\n",
    "To improve the model's performance, consider the following:\n",
    "\n",
    "Feature Engineering: Adding additional features like restaurant type, location, or reviews count might give the model more context and better predictive power.\n",
    "\n",
    "Data Cleaning and Preprocessing: Ensure that missing values and outliers are properly handled, as they can distort the model.\n",
    "\n",
    "Model Complexity: A simple linear regression might not capture the complexities of the data. Trying more sophisticated models like decision trees, random forests, or gradient boosting could yield better results.\n",
    "\n",
    "### Conclusion:\n",
    "While the model provides a basic understanding of the relationship between cost and ratings, its predictive power is quite weak, as evidenced by the low R² score and MSE. The bias in the data, especially if it's skewed in terms of types of restaurants or rating practices, may contribute to the model’s poor performance. To improve the model, additional features and more advanced models should be considered."
   ]
  },
  {
   "cell_type": "code",
   "execution_count": null,
   "id": "ec9e38b9-13c2-48ac-b53c-163e89ff33ee",
   "metadata": {},
   "outputs": [],
   "source": []
  }
 ],
 "metadata": {
  "kernelspec": {
   "display_name": "Python [conda env:base] *",
   "language": "python",
   "name": "conda-base-py"
  },
  "language_info": {
   "codemirror_mode": {
    "name": "ipython",
    "version": 3
   },
   "file_extension": ".py",
   "mimetype": "text/x-python",
   "name": "python",
   "nbconvert_exporter": "python",
   "pygments_lexer": "ipython3",
   "version": "3.12.7"
  }
 },
 "nbformat": 4,
 "nbformat_minor": 5
}
